{
 "cells": [
  {
   "cell_type": "code",
   "execution_count": 1,
   "id": "08418fa2-1cb7-4c91-9ed1-8d7002876773",
   "metadata": {},
   "outputs": [
    {
     "name": "stdout",
     "output_type": "stream",
     "text": [
      "Defaulting to user installation because normal site-packages is not writeable\n",
      "Requirement already satisfied: nltk in e:\\anaconda3\\lib\\site-packages (3.8.1)\n",
      "Requirement already satisfied: click in e:\\anaconda3\\lib\\site-packages (from nltk) (8.1.7)\n",
      "Requirement already satisfied: joblib in e:\\anaconda3\\lib\\site-packages (from nltk) (1.4.2)\n",
      "Requirement already satisfied: regex>=2021.8.3 in e:\\anaconda3\\lib\\site-packages (from nltk) (2024.9.11)\n",
      "Requirement already satisfied: tqdm in e:\\anaconda3\\lib\\site-packages (from nltk) (4.66.5)\n",
      "Requirement already satisfied: colorama in e:\\anaconda3\\lib\\site-packages (from click->nltk) (0.4.6)\n",
      "Note: you may need to restart the kernel to use updated packages.\n"
     ]
    }
   ],
   "source": [
    "pip install nltk"
   ]
  },
  {
   "cell_type": "code",
   "execution_count": 2,
   "id": "50296cd1-3f11-4ad7-ad07-b8bb94bbe271",
   "metadata": {},
   "outputs": [],
   "source": [
    "import nltk\n",
    "from nltk.tokenize import sent_tokenize\n",
    "from nltk.tokenize import word_tokenize\n",
    "from nltk.corpus import stopwords\n",
    "from nltk.stem import PorterStemmer\n",
    "from nltk.stem import WordNetLemmatizer\n",
    "import re\n",
    "from sklearn.feature_extraction.text import TfidfVectorizer"
   ]
  },
  {
   "cell_type": "code",
   "execution_count": 3,
   "id": "0b910759-7729-4036-af16-ea7f65578d5b",
   "metadata": {},
   "outputs": [
    {
     "name": "stderr",
     "output_type": "stream",
     "text": [
      "[nltk_data] Downloading package punkt to\n",
      "[nltk_data]     C:\\Users\\Sumeet\\AppData\\Roaming\\nltk_data...\n",
      "[nltk_data]   Package punkt is already up-to-date!\n",
      "[nltk_data] Downloading package stopwords to\n",
      "[nltk_data]     C:\\Users\\Sumeet\\AppData\\Roaming\\nltk_data...\n",
      "[nltk_data]   Package stopwords is already up-to-date!\n",
      "[nltk_data] Downloading package wordnet to\n",
      "[nltk_data]     C:\\Users\\Sumeet\\AppData\\Roaming\\nltk_data...\n",
      "[nltk_data]   Package wordnet is already up-to-date!\n",
      "[nltk_data] Downloading package averaged_perceptron_tagger to\n",
      "[nltk_data]     C:\\Users\\Sumeet\\AppData\\Roaming\\nltk_data...\n",
      "[nltk_data]   Package averaged_perceptron_tagger is already up-to-\n",
      "[nltk_data]       date!\n"
     ]
    },
    {
     "data": {
      "text/plain": [
       "True"
      ]
     },
     "execution_count": 3,
     "metadata": {},
     "output_type": "execute_result"
    }
   ],
   "source": [
    "nltk.download('punkt')\n",
    "nltk.download('stopwords')\n",
    "nltk.download('wordnet')\n",
    "nltk.download('averaged_perceptron_tagger')"
   ]
  },
  {
   "cell_type": "code",
   "execution_count": 4,
   "id": "ac00652e-7cbb-4b5a-81c5-124b5ebe452d",
   "metadata": {},
   "outputs": [],
   "source": [
    "text=\"Tokenization replaces a sensitive data element, for example, a bank account number, with a non-sensitive substitute, known as a token. The token is a randomized data string that has no essential or exploitable value or meaning. It is a unique identifier which retains all the pertinent information about the data without compromising its security\""
   ]
  },
  {
   "cell_type": "code",
   "execution_count": 5,
   "id": "966fcc96-9441-4c46-af5f-7182f36e4662",
   "metadata": {},
   "outputs": [
    {
     "name": "stdout",
     "output_type": "stream",
     "text": [
      "['Tokenization replaces a sensitive data element, for example, a bank account number, with a non-sensitive substitute, known as a token.', 'The token is a randomized data string that has no essential or exploitable value or meaning.', 'It is a unique identifier which retains all the pertinent information about the data without compromising its security']\n"
     ]
    }
   ],
   "source": [
    "sentences = sent_tokenize(text)\n",
    "print(sentences)"
   ]
  },
  {
   "cell_type": "code",
   "execution_count": 6,
   "id": "57c40dad-3ec3-42b2-bc16-e6ffa97376f3",
   "metadata": {},
   "outputs": [
    {
     "name": "stdout",
     "output_type": "stream",
     "text": [
      "['Tokenization', 'replaces', 'a', 'sensitive', 'data', 'element', ',', 'for', 'example', ',', 'a', 'bank', 'account', 'number', ',', 'with', 'a', 'non-sensitive', 'substitute', ',', 'known', 'as', 'a', 'token', '.', 'The', 'token', 'is', 'a', 'randomized', 'data', 'string', 'that', 'has', 'no', 'essential', 'or', 'exploitable', 'value', 'or', 'meaning', '.', 'It', 'is', 'a', 'unique', 'identifier', 'which', 'retains', 'all', 'the', 'pertinent', 'information', 'about', 'the', 'data', 'without', 'compromising', 'its', 'security']\n"
     ]
    }
   ],
   "source": [
    "words = word_tokenize(text)\n",
    "print(words)"
   ]
  },
  {
   "cell_type": "code",
   "execution_count": 7,
   "id": "cdd10c6d-6141-47c3-8245-6c0cc120f58e",
   "metadata": {},
   "outputs": [
    {
     "name": "stdout",
     "output_type": "stream",
     "text": [
      "{'are', 'aren', 'been', 'against', 'itself', 'hers', 'as', 'now', 'some', 'below', \"we're\", 'of', \"he'll\", 'and', 'wouldn', \"wouldn't\", 'until', 'do', 'each', \"aren't\", 'd', 'they', 'your', \"i've\", \"it'll\", 'its', 'off', 'he', 'own', \"you've\", 'about', 'no', \"mustn't\", 'y', 'hadn', 'more', \"it's\", \"shouldn't\", 'those', 'themselves', 'while', 'yourselves', \"i'd\", 'up', 'my', \"doesn't\", 'both', 'she', 'you', 'be', 'will', 'll', 'in', \"i'm\", 'above', 'this', 'weren', 'doesn', 'between', \"he'd\", 'having', 'through', 'here', 'how', 'these', 'very', 're', 'doing', 'because', \"she'll\", 'i', 'with', 'an', \"wasn't\", 'where', 'myself', 'such', 'most', \"hasn't\", 'herself', 'his', 'over', 'that', 'nor', 'our', 'by', 'can', 'shan', \"you're\", 'didn', \"she's\", \"we've\", 'theirs', 'mustn', 'am', 'ain', \"they're\", \"mightn't\", 'then', 'what', 'out', 'have', 'not', 'should', 'down', \"isn't\", 'wasn', 'whom', \"haven't\", \"they'll\", 'when', \"she'd\", 'yours', 'being', 'him', 'any', 'before', 'the', 'm', \"won't\", 'on', 'under', 'them', 'after', 'who', 'just', \"we'll\", 'or', 'few', 'for', 'at', 'if', 'it', 'isn', 'too', 'which', 'a', 'into', 'won', 'o', 'again', 'is', 'has', 'don', 'there', \"they've\", \"i'll\", 'yourself', 'me', 'does', 'her', \"you'll\", \"weren't\", 'once', \"shan't\", 'same', 'why', 'other', \"couldn't\", 'was', \"don't\", 'couldn', 's', 've', \"we'd\", 'all', 'needn', 'but', 'had', 'we', 'were', 'during', 'mightn', 'only', 'shouldn', 'to', 'than', \"hadn't\", \"you'd\", 'from', 'ma', \"they'd\", \"that'll\", 'hasn', \"didn't\", \"it'd\", 'further', 'haven', 'ourselves', 'so', 'ours', \"should've\", 'himself', \"he's\", 't', 'did', 'their', \"needn't\"}\n"
     ]
    }
   ],
   "source": [
    "stop_words = set(stopwords.words('english'))\n",
    "print(stop_words)"
   ]
  },
  {
   "cell_type": "code",
   "execution_count": 8,
   "id": "e02606b9-8731-40cd-862a-b77e82e7ed2a",
   "metadata": {},
   "outputs": [
    {
     "name": "stdout",
     "output_type": "stream",
     "text": [
      "Tokenized Sentence: ['how', 'to', 'remove', 'stop', 'words', 'with', 'nltk', 'library', 'in', 'python']\n",
      "Filtered Sentence: ['remove', 'stop', 'words', 'nltk', 'library', 'python']\n"
     ]
    }
   ],
   "source": [
    "text=\"How to remove stop words with NLTK library in Python7\"\n",
    "text= re.sub('[^a-zA-Z]', ' ', text)\n",
    "tokens= word_tokenize(text.lower())\n",
    "filtered_text= []\n",
    "for w in tokens:\n",
    "    if w not in stop_words:\n",
    "        filtered_text.append(w)\n",
    "print(\"Tokenized Sentence:\", tokens)\n",
    "print(\"Filtered Sentence:\", filtered_text)"
   ]
  },
  {
   "cell_type": "code",
   "execution_count": 9,
   "id": "0c63c15c-b8c4-49f9-a6fa-e4f0eb5d5e6e",
   "metadata": {},
   "outputs": [
    {
     "name": "stdout",
     "output_type": "stream",
     "text": [
      "wait : wait\n",
      "waiting : wait\n",
      "waited : wait\n",
      "waits : wait\n",
      "Original Sentence: ['wait', 'waiting', 'waited', 'waits']\n"
     ]
    }
   ],
   "source": [
    "ps = PorterStemmer()\n",
    "stemmed_words = ['wait', 'waiting', 'waited', 'waits']\n",
    "for w in stemmed_words:\n",
    "    print(w, \":\", ps.stem(w))\n",
    "print(\"Original Sentence:\", stemmed_words)"
   ]
  },
  {
   "cell_type": "code",
   "execution_count": 10,
   "id": "fcb15209-c460-4346-ac6b-bee18f5c51db",
   "metadata": {},
   "outputs": [
    {
     "name": "stdout",
     "output_type": "stream",
     "text": [
      "Lemma for studies is study\n",
      "Lemma for studying is studying\n",
      "Lemma for cies is cies\n",
      "Lemma for cry is cry\n"
     ]
    }
   ],
   "source": [
    "lemmatizer = WordNetLemmatizer()\n",
    "text= \"studies studying cies cry\"\n",
    "tokenization= nltk.word_tokenize(text)\n",
    "for w in tokenization:\n",
    "    print(\"Lemma for {} is {}\".format(w, lemmatizer.lemmatize(w)))"
   ]
  },
  {
   "cell_type": "code",
   "execution_count": 13,
   "id": "cae6fef9-4040-4381-ab0c-9a5997d04edc",
   "metadata": {},
   "outputs": [
    {
     "name": "stdout",
     "output_type": "stream",
     "text": [
      "[('The', 'DT')]\n",
      "[('pink', 'NN')]\n",
      "[('sweater', 'NN')]\n",
      "[('fits', 'NNS')]\n",
      "[('her', 'PRP$')]\n",
      "[('perfectly', 'RB')]\n"
     ]
    }
   ],
   "source": [
    "data = 'The pink sweater fits her perfectly'\n",
    "words = nltk.word_tokenize(data)\n",
    "for word in words:\n",
    "    print(nltk.pos_tag([word]))"
   ]
  },
  {
   "cell_type": "code",
   "execution_count": 14,
   "id": "bd71cb41-bc42-4dd3-821b-0e787ca3a109",
   "metadata": {},
   "outputs": [],
   "source": [
    "paragraph= \"\"\"India is a vast country with second highest populati\n",
    "on in the world. It is a country\n",
    "with diverse cultures, traditions and beliefs. People in India cel\n",
    "ebrate unity in diversity.\n",
    "Festivals like Diwali, Holi, Navratri, Ramzan, Christmas etc. are \n",
    "celebrated by people across India \n",
    "and create a sense of brotherhood and cultural unity. Each festiva\n",
    "l has its religious and cultural importance.\"\"\""
   ]
  },
  {
   "cell_type": "code",
   "execution_count": 15,
   "id": "b0fdaf75-a9cb-4ac6-b6c3-7c111f36b688",
   "metadata": {},
   "outputs": [
    {
     "name": "stdout",
     "output_type": "stream",
     "text": [
      "['india vast country second highest populati world', 'country diverse culture tradition belief', 'people india cel ebrate unity diversity', 'festival like diwali holi navratri ramzan christmas etc', 'celebrated people across india create sense brotherhood cultural unity', 'festiva l religious cultural importance']\n"
     ]
    }
   ],
   "source": [
    "wn = WordNetLemmatizer()\n",
    "sentences = nltk.sent_tokenize(paragraph)\n",
    "corpus = []\n",
    "for i in range(len(sentences)):\n",
    "    review = re.sub('[^a-zA-Z]', ' ', sentences[i])\n",
    "    review = review.lower()\n",
    "    review = review.split()\n",
    "    review = [wn.lemmatize(word) for word in review if not word in set(stopwords.words('english'))]\n",
    "    review = ' '.join(review)\n",
    "    corpus.append(review)\n",
    "print(corpus)"
   ]
  },
  {
   "cell_type": "code",
   "execution_count": 16,
   "id": "90329c34-49ec-425f-b86f-eaaabcdb40b2",
   "metadata": {},
   "outputs": [
    {
     "name": "stdout",
     "output_type": "stream",
     "text": [
      "[[0.         0.         0.         0.         0.         0.\n",
      "  0.33061545 0.         0.         0.         0.         0.\n",
      "  0.         0.         0.         0.         0.         0.40318254\n",
      "  0.         0.         0.27912828 0.         0.         0.\n",
      "  0.40318254 0.         0.         0.40318254 0.         0.\n",
      "  0.         0.40318254 0.40318254]\n",
      " [0.         0.46262479 0.         0.         0.         0.\n",
      "  0.37935895 0.         0.         0.46262479 0.46262479 0.\n",
      "  0.         0.         0.         0.         0.         0.\n",
      "  0.         0.         0.         0.         0.         0.\n",
      "  0.         0.         0.         0.         0.         0.46262479\n",
      "  0.         0.         0.        ]\n",
      " [0.         0.         0.         0.45529187 0.         0.\n",
      "  0.         0.         0.         0.         0.         0.45529187\n",
      "  0.         0.45529187 0.         0.         0.         0.\n",
      "  0.         0.         0.31520422 0.         0.         0.37334585\n",
      "  0.         0.         0.         0.         0.         0.\n",
      "  0.37334585 0.         0.        ]\n",
      " [0.         0.         0.         0.         0.         0.35355339\n",
      "  0.         0.         0.         0.         0.         0.\n",
      "  0.35355339 0.         0.35355339 0.         0.35355339 0.\n",
      "  0.35355339 0.         0.         0.35355339 0.35355339 0.\n",
      "  0.         0.35355339 0.         0.         0.         0.\n",
      "  0.         0.         0.        ]\n",
      " [0.36523197 0.         0.36523197 0.         0.36523197 0.\n",
      "  0.         0.36523197 0.29949544 0.         0.         0.\n",
      "  0.         0.         0.         0.         0.         0.\n",
      "  0.         0.         0.25285463 0.         0.         0.29949544\n",
      "  0.         0.         0.         0.         0.36523197 0.\n",
      "  0.29949544 0.         0.        ]\n",
      " [0.         0.         0.         0.         0.         0.\n",
      "  0.         0.         0.42790272 0.         0.         0.\n",
      "  0.         0.         0.         0.52182349 0.         0.\n",
      "  0.         0.52182349 0.         0.         0.         0.\n",
      "  0.         0.         0.52182349 0.         0.         0.\n",
      "  0.         0.         0.        ]]\n"
     ]
    }
   ],
   "source": [
    "tfidf = TfidfVectorizer()\n",
    "X = tfidf.fit_transform(corpus).toarray()\n",
    "print(X)"
   ]
  },
  {
   "cell_type": "code",
   "execution_count": null,
   "id": "a93c76d7-3a00-4c4d-988b-a14cd3b28a18",
   "metadata": {},
   "outputs": [],
   "source": []
  }
 ],
 "metadata": {
  "kernelspec": {
   "display_name": "Python [conda env:base] *",
   "language": "python",
   "name": "conda-base-py"
  },
  "language_info": {
   "codemirror_mode": {
    "name": "ipython",
    "version": 3
   },
   "file_extension": ".py",
   "mimetype": "text/x-python",
   "name": "python",
   "nbconvert_exporter": "python",
   "pygments_lexer": "ipython3",
   "version": "3.12.7"
  }
 },
 "nbformat": 4,
 "nbformat_minor": 5
}
